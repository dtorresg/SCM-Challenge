{
 "cells": [
  {
   "cell_type": "markdown",
   "id": "b209e464-00c4-4d19-9610-31f7100d8d54",
   "metadata": {},
   "source": [
    "# Data Science Challenge\n",
    "**Nombre:** Daniel Torres\n",
    "**Fecha:** 17 de octubre de 2024\n",
    "\n",
    "## Índice\n",
    "1. [Problema 1: Pregunta de optimización](#problema-1)\n",
    "   1. [Actividad 1: Optimizacion via MIP](#actividad-1-1)\n",
    "       1. Importación de Librerías"
   ]
  },
  {
   "cell_type": "markdown",
   "id": "894a3d0c-bd84-40cd-8e4f-1321010485a2",
   "metadata": {},
   "source": [
    "# Problema 1: Pregunta de optimización <a name=\"problema-1\"></a>\n",
    "\n",
    "## Descripción del Problema\n",
    "\n",
    "Un hospital de Ciudad Gótica requiere generar horarios para los enfermeros de emergencia durante un periodo de 28 días, distribuidos en tres tipos de turnos:\n",
    "\n",
    "- **AM:** 7:00 hrs a 15:00 hrs\n",
    "- **PM:** 15:00 hrs a 23:00 hrs\n",
    "- **NOCHE:** 23:00 hrs a 7:00 hrs"
   ]
  },
  {
   "cell_type": "markdown",
   "id": "3b5103c7-fd5b-49bc-b487-248202e81687",
   "metadata": {},
   "source": [
    "## Actividad 1: Optimizacion via MIP <a name=\"actividad-1-1\"></a>"
   ]
  },
  {
   "cell_type": "markdown",
   "id": "8723f189-cb00-420c-a0c9-8a3b28f7dcbc",
   "metadata": {},
   "source": [
    "### Importación de Librerías\n",
    "\n",
    "A continuación, se importan las librerías necesarias para la manipulación de datos, visualización y optimización del modelo."
   ]
  },
  {
   "cell_type": "code",
   "execution_count": 1,
   "id": "1f7c2de8-c06c-4b79-ba27-36393f79d391",
   "metadata": {},
   "outputs": [],
   "source": [
    "# Importación de librerías necesarias\n",
    "import json\n",
    "import pandas as pd\n",
    "import numpy as np\n",
    "import matplotlib.pyplot as plt\n",
    "import seaborn as sns"
   ]
  },
  {
   "cell_type": "markdown",
   "id": "0ad2c69d-fb9c-4110-a195-e7a8818ab5cb",
   "metadata": {},
   "source": [
    "### Carga de Datos\n",
    "\n",
    "Se carga el archivo de entrada `Input_Challenge.json` que contiene la demanda de personal por turno y día, así como el número total de enfermeros disponibles.\n"
   ]
  },
  {
   "cell_type": "code",
   "execution_count": 2,
   "id": "150d4c8b-2df5-48af-b6ab-c2283ef0e163",
   "metadata": {},
   "outputs": [],
   "source": [
    "# Carga de los datos desde el archivo JSON\n",
    "with open('Input_Challenge.json', 'r') as file:\n",
    "    data = json.load(file)\n",
    "\n",
    "# Convertir los datos de demanda en un DataFrame\n",
    "df_demand = pd.DataFrame([data['Demand'][i:i+3] for i in range(0, len(data['Demand']), 3)], \n",
    "                         columns=[0, 1, 2])\n",
    "#print(df_demand.head())\n",
    "\n",
    "# El diccionario Collabs para este caso capticular condice la llave con el valor, dando un total de 15 colaboradores\n",
    "\n",
    "# Se crea df para identificar de mejor manera que turnos puede tomar que funcionario\n",
    "df_shift_collab = pd.DataFrame(0, index=map(int, data[\"Collabs\"].keys()), columns=range(0,100))\n",
    "\n",
    "\n",
    "for collab, turns in data[\"Shift_Collab\"].items():\n",
    "    df_shift_collab.loc[int(collab), turns] = 1\n",
    "    \n",
    "#print(df_shift_collab.head())\n",
    "\n",
    "# Se crea df que contiene los patrones de cada turno\n",
    "\n",
    "\n",
    "\n",
    "\n"
   ]
  },
  {
   "cell_type": "markdown",
   "id": "de892e50-d05a-42af-b4f7-97a0ae6e9d11",
   "metadata": {},
   "source": [
    "### Formulación del Modelo de Optimización\n",
    "\n",
    "#### Conjuntos\n",
    "\n",
    "- $N$: Conjunto de enfermeros de emergencia\n",
    "- $D$: Conjunto de dias\n",
    "- $S$: Conjunto de tipos de turno\n",
    "- $P$: Conjuntos de patrones de turno mensuales\n",
    "\n",
    "#### Parametros\n",
    "- $\\text{patronUsable}_{n,p}$: 1 si el enfermero $n$ puede llevar a cabo el turno patron de turnos $p$, 0 de otra forma\n",
    "\n",
    "\n",
    "#### Variables de Decision\n",
    "\n",
    "- $x_{n,p}$: 1 si el enfermero $n$ esta asignado al patron de turnos $p$, 0 de otra forma\n",
    "\n",
    "#### Variables\n",
    "- $\\text{estaAsignado}_{n,d,s}$: 1 si el enfermero $n$ esta asignado en el dia $d$ al turno $s$, 0 de otra forma\n",
    "- $\\text{estaLibre}_{n,d,s}$: 1 si el enfermero $n$ no esta asignado en el dia $d$ al turno $s$, 0 de otra forma\n",
    "- $\\text{Escasez}_{d,s}$: Numero de enfermeros bajo el numero necesario para el turno $s$ del dia $d$\n",
    "- $\\text{Exceso}_{d,s}$: Numero de enfermeros sobre el numero necesario para el turno $s$ del dia $d$\n",
    "\n",
    "#### Restricciones duras\n",
    "- Cada enfermero solo puede tomar un turno diario durante el periodo\n",
    "\n",
    "$\n",
    "\\sum \\limits_{s \\in S} \\text{estaAsignado}_{n,d,s} + \\text{estaLibre}_{n,d,s} = 1 ~~~~~~~~~~~~~ \\forall n \\in N, \\forall d \\in D\n",
    "$\n",
    "\n",
    "- Cada enfermero solo puede ser asignado a patrones de turno que sean admitidos por $\\text{patronUsable}_{n,p}$\n",
    "\n",
    "$\n",
    "x_{n,p} \\leq \\text{patronUsable}_{n,p} ~~~~~~~~~~~~~ \\forall n \\in N, \\forall p \\in P\n",
    "$\n",
    "\n",
    "\n",
    "\n",
    "#### Función Objetivo\n",
    "\n",
    "Minimizar la suma total de escasez y exceso de personal en todos los turnos y días.\n",
    "\n",
    "$\n",
    "\\text{Minimizar} \\sum \\limits_{d=1}^{D} \\sum \\limits_{s=0}^{S} \\text{Escasez}_{d,s} + \\text{Exceso}_{d,s}\n",
    "$\n",
    "\n"
   ]
  },
  {
   "cell_type": "markdown",
   "id": "d8d10fc5-8efb-448c-a2db-dc1688b74a6d",
   "metadata": {},
   "source": [
    "### Creacion modelo MIP"
   ]
  },
  {
   "cell_type": "code",
   "execution_count": 3,
   "id": "ad8941b6-6d73-4a3e-a0f3-2a9e74252118",
   "metadata": {},
   "outputs": [],
   "source": [
    "import mip"
   ]
  },
  {
   "cell_type": "code",
   "execution_count": null,
   "id": "f0bfdd6f-afd8-4ff8-8923-997a0c3e8ba3",
   "metadata": {},
   "outputs": [],
   "source": [
    "m = mip.Model()"
   ]
  }
 ],
 "metadata": {
  "kernelspec": {
   "display_name": "Python 3 (ipykernel)",
   "language": "python",
   "name": "python3"
  },
  "language_info": {
   "codemirror_mode": {
    "name": "ipython",
    "version": 3
   },
   "file_extension": ".py",
   "mimetype": "text/x-python",
   "name": "python",
   "nbconvert_exporter": "python",
   "pygments_lexer": "ipython3",
   "version": "3.12.5"
  }
 },
 "nbformat": 4,
 "nbformat_minor": 5
}
